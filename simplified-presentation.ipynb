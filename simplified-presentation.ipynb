{
 "cells": [
  {
   "cell_type": "markdown",
   "metadata": {
    "slideshow": {
     "slide_type": "slide"
    }
   },
   "source": [
    "Harvest data from Web APIs using the Python Requests library\n",
    "====================================================\n",
    "\n",
    "Amanda Devine  \n",
    "25 July 2019  \n",
    "SI Carpentries Brown Bag\n",
    "\n",
    "<br><br><br><br>\n",
    "\n",
    "***\n",
    "\n",
    "GitHub Repository: https://github.com/amdevine/cbb-python-requests  \n",
    "Detailed Jupyter notebook: https://github.com/amdevine/cbb-python-requests/blob/master/harvest-data-apis-python-requests.ipynb  \n",
    "Slides: https://amdevine.github.io/cbb-python-requests/"
   ]
  },
  {
   "cell_type": "markdown",
   "metadata": {
    "slideshow": {
     "slide_type": "slide"
    }
   },
   "source": [
    "Definitions\n",
    "------------------\n",
    "\n",
    "- **(REST) API**: Application Programming Interface. A special page on a website that provides structured data for other programs and applications.\n",
    "\n",
    "\n",
    "- **GET Request**: An HTTP command to retrieve code and data from a website. \n",
    "\n",
    "\n",
    "- **JSON**: JavaScript Object Notation. A common format of structuring data, analogous to a Python dictionary.\n",
    "\n",
    "\n",
    "- **Base URL**: The \"home\" website URL for all API data.\n",
    "    > NPS Base URL: `https://developer.nps.gov/api/v1`"
   ]
  },
  {
   "cell_type": "markdown",
   "metadata": {
    "slideshow": {
     "slide_type": "slide"
    }
   },
   "source": [
    "- **Endpoint**: The specific URL where the API page can be found. \n",
    "    > Parks Endpoint: `https://developer.nps.gov/api/v1/parks`\n",
    "\n",
    "\n",
    "- **Parameter**: An additional criterion that is added to the endpoint to filter data returned. \n",
    "    > parkCode, stateCode, and limit parameters: `https://developer.nps.gov/api/v1/parks?parkCode=yell&stateCode=WY&limit=5`\n",
    "    \n",
    "\n",
    "- **API Key**: A string of characters assigned by the website to identify the user requesting data via the API. \n",
    "    > National Parks API Key: `https://developer.nps.gov/api/v1/parks?api_key=1mdaBewB37R0kUA2ZtfA6URe7PeUsig6jLQmSXyx` (not a real key!)"
   ]
  },
  {
   "cell_type": "markdown",
   "metadata": {
    "slideshow": {
     "slide_type": "slide"
    }
   },
   "source": [
    "NPS Data API\n",
    "-----------------\n",
    "\n",
    "Official source of data about natural areas managed by the National Park Service\n",
    "- park information\n",
    "- campground information\n",
    "- alerts, events, news, educational resources, etc.\n",
    "\n",
    "\n",
    "NPS API Keys: https://www.nps.gov/subjects/developer/get-started.htm\n",
    "\n",
    "NPS Data API documentation: https://www.nps.gov/subjects/developer/api-documentation.htm  "
   ]
  },
  {
   "cell_type": "markdown",
   "metadata": {
    "slideshow": {
     "slide_type": "slide"
    }
   },
   "source": [
    "Python `requests` library\n",
    "-----------------------------\n",
    "\n",
    "Sample GET Request:\n",
    "\n",
    "    import requests\n",
    "    url = 'https://baseurl.com/endpoint'\n",
    "    params = {\n",
    "        'field1': 'value1',\n",
    "        'field2': 'value2',\n",
    "    }\n",
    "    r = requests.get(url, params).json()\n",
    "    \n",
    "Quickstart documentation: https://3.python-requests.org/user/quickstart/"
   ]
  },
  {
   "cell_type": "markdown",
   "metadata": {
    "slideshow": {
     "slide_type": "slide"
    }
   },
   "source": [
    "Setup\n",
    "--------\n",
    "\n",
    "Import the `requests` and `pandas` libraries."
   ]
  },
  {
   "cell_type": "code",
   "execution_count": 1,
   "metadata": {
    "slideshow": {
     "slide_type": "-"
    }
   },
   "outputs": [],
   "source": [
    "import requests\n",
    "import pandas as pd"
   ]
  },
  {
   "cell_type": "markdown",
   "metadata": {},
   "source": [
    "Save API Key as a constant or read it from a local file."
   ]
  },
  {
   "cell_type": "code",
   "execution_count": 2,
   "metadata": {
    "slideshow": {
     "slide_type": "-"
    }
   },
   "outputs": [
    {
     "name": "stdout",
     "output_type": "stream",
     "text": [
      "API Key: API_KEY\n"
     ]
    }
   ],
   "source": [
    "# API_KEY = '1mdaBewB37R0kUA2ZtfA6URe7PeUsig6jLQmSXyx'\n",
    "with open('api_key_file.txt', 'r') as f:\n",
    "    API_KEY = f.read().strip()\n",
    "print(\"API Key: {}\".format(\"API_KEY\")) # Remove quotes to display actual API_KEY"
   ]
  },
  {
   "cell_type": "markdown",
   "metadata": {
    "slideshow": {
     "slide_type": "slide"
    }
   },
   "source": [
    "Make a GET request to the API to retrieve data\n",
    "--------------------------------------------------------\n",
    "\n",
    "This request returns data on up to 100 parks in Washington DC, Maryland, and Virginia."
   ]
  },
  {
   "cell_type": "code",
   "execution_count": 3,
   "metadata": {
    "slideshow": {
     "slide_type": "-"
    }
   },
   "outputs": [],
   "source": [
    "url = 'https://developer.nps.gov/api/v1/parks'\n",
    "params = {\n",
    "    'api_key': API_KEY,\n",
    "    'stateCode': 'DC,MD,VA', # Per the API documentation, separate multiple values with commas\n",
    "    'fields': 'entranceFees',\n",
    "    'limit': 100\n",
    "}\n",
    "r = requests.get(url, params)"
   ]
  },
  {
   "cell_type": "markdown",
   "metadata": {
    "slideshow": {
     "slide_type": "-"
    }
   },
   "source": [
    "`api_key` is a required parameter for all NPS Data API requests. `stateCode` filters parks based on two-letter US state abbreviations. `fields` specifies additional fields to return in addition to the default fields. `limit` specifies the maximum number of results to return."
   ]
  },
  {
   "cell_type": "markdown",
   "metadata": {
    "slideshow": {
     "slide_type": "slide"
    }
   },
   "source": [
    "`requests.get()` returns a variety of information about the web page retrieved. "
   ]
  },
  {
   "cell_type": "code",
   "execution_count": 4,
   "metadata": {
    "slideshow": {
     "slide_type": "-"
    }
   },
   "outputs": [
    {
     "name": "stdout",
     "output_type": "stream",
     "text": [
      "The response code is: 200\n",
      "\n",
      "The retrieved URL is: r.url\n",
      "\n",
      "The first 300 characters of the retrieved text are:\n",
      "{\"total\":\"80\",\"data\":[{\"states\":\"DC\",\"entranceFees\":[{\"cost\":\"0.0000\",\"description\":\"No Entrance Fee to enter park site.\",\"title\":\"No Entrance Fee\"}],\"directionsInfo\":\"The memorial is located at the corner of Vermont Avenue, 10th St, and U Street NW, near the U Street\\/African-American Civil War Mem\n"
     ]
    }
   ],
   "source": [
    "print(\"The response code is: {}\".format(r.status_code))\n",
    "print(\"\\nThe retrieved URL is: {}\".format(\"r.url\")) #Remove quotes to display URL\n",
    "print(\"\\nThe first 300 characters of the retrieved text are:\\n{}\".format(r.text[:300]))"
   ]
  },
  {
   "cell_type": "markdown",
   "metadata": {
    "slideshow": {
     "slide_type": "slide"
    }
   },
   "source": [
    "## Work with retrieved data\n",
    "\n",
    "### Convert GET request object to dictionary"
   ]
  },
  {
   "cell_type": "code",
   "execution_count": 5,
   "metadata": {
    "slideshow": {
     "slide_type": "-"
    }
   },
   "outputs": [
    {
     "name": "stdout",
     "output_type": "stream",
     "text": [
      "Top level keys: ['limit', 'data', 'start', 'total']\n",
      "\n",
      "Available keys in each entry: ['directionsUrl', 'url', 'fullName', 'description', 'entranceFees', 'id', 'directionsInfo', 'latLong', 'states', 'designation', 'weatherInfo', 'name', 'parkCode']\n"
     ]
    }
   ],
   "source": [
    "parks_data = r.json()\n",
    "\n",
    "print(\"Top level keys:\", list(parks_data))\n",
    "print(\"\\nAvailable keys in each entry:\", list(parks_data['data'][0]))"
   ]
  },
  {
   "cell_type": "markdown",
   "metadata": {
    "slideshow": {
     "slide_type": "slide"
    }
   },
   "source": [
    "### Create a DataFrame\n",
    "\n",
    "This code filters the retrieved data to states and associated lat/long coordinate for each park."
   ]
  },
  {
   "cell_type": "code",
   "execution_count": 6,
   "metadata": {
    "slideshow": {
     "slide_type": "-"
    }
   },
   "outputs": [
    {
     "data": {
      "text/html": [
       "<div>\n",
       "<style scoped>\n",
       "    .dataframe tbody tr th:only-of-type {\n",
       "        vertical-align: middle;\n",
       "    }\n",
       "\n",
       "    .dataframe tbody tr th {\n",
       "        vertical-align: top;\n",
       "    }\n",
       "\n",
       "    .dataframe thead th {\n",
       "        text-align: right;\n",
       "    }\n",
       "</style>\n",
       "<table border=\"1\" class=\"dataframe\">\n",
       "  <thead>\n",
       "    <tr style=\"text-align: right;\">\n",
       "      <th></th>\n",
       "      <th>parkCode</th>\n",
       "      <th>fullName</th>\n",
       "      <th>designation</th>\n",
       "      <th>states</th>\n",
       "      <th>latLong</th>\n",
       "    </tr>\n",
       "  </thead>\n",
       "  <tbody>\n",
       "    <tr>\n",
       "      <th>0</th>\n",
       "      <td>afam</td>\n",
       "      <td>African American Civil War Memorial</td>\n",
       "      <td></td>\n",
       "      <td>DC</td>\n",
       "      <td>lat:38.916554, long:-77.025977</td>\n",
       "    </tr>\n",
       "    <tr>\n",
       "      <th>1</th>\n",
       "      <td>anac</td>\n",
       "      <td>Anacostia Park</td>\n",
       "      <td>Park</td>\n",
       "      <td>DC</td>\n",
       "      <td>lat:38.89644397, long:-76.96314236</td>\n",
       "    </tr>\n",
       "    <tr>\n",
       "      <th>2</th>\n",
       "      <td>anti</td>\n",
       "      <td>Antietam National Battlefield</td>\n",
       "      <td>National Battlefield</td>\n",
       "      <td>MD</td>\n",
       "      <td>lat:39.46763452, long:-77.73828017</td>\n",
       "    </tr>\n",
       "    <tr>\n",
       "      <th>3</th>\n",
       "      <td>appa</td>\n",
       "      <td>Appalachian National Scenic Trail</td>\n",
       "      <td>National Scenic Trail</td>\n",
       "      <td>CT,GA,MA,MD,ME,NC,NH,NJ,NY,PA,TN,VA,VT,WV</td>\n",
       "      <td>lat:40.41029575, long:-76.4337548</td>\n",
       "    </tr>\n",
       "    <tr>\n",
       "      <th>4</th>\n",
       "      <td>apco</td>\n",
       "      <td>Appomattox Court House National Historical Park</td>\n",
       "      <td>National Historical Park</td>\n",
       "      <td>VA</td>\n",
       "      <td>lat:37.38022164, long:-78.79856982</td>\n",
       "    </tr>\n",
       "    <tr>\n",
       "      <th>5</th>\n",
       "      <td>arho</td>\n",
       "      <td>Arlington House, The Robert  E. Lee Memorial</td>\n",
       "      <td></td>\n",
       "      <td>VA</td>\n",
       "      <td>lat:38.8822021484375, long:-77.0734786987305</td>\n",
       "    </tr>\n",
       "    <tr>\n",
       "      <th>6</th>\n",
       "      <td>asis</td>\n",
       "      <td>Assateague Island National Seashore</td>\n",
       "      <td>National Seashore</td>\n",
       "      <td>MD,VA</td>\n",
       "      <td>lat:38.05593172, long:-75.24524611</td>\n",
       "    </tr>\n",
       "    <tr>\n",
       "      <th>7</th>\n",
       "      <td>balt</td>\n",
       "      <td>Baltimore National Heritage Area</td>\n",
       "      <td>National Heritage Area</td>\n",
       "      <td>MD</td>\n",
       "      <td>lat:39.2904968261719, long:-76.6284027099609</td>\n",
       "    </tr>\n",
       "    <tr>\n",
       "      <th>8</th>\n",
       "      <td>bawa</td>\n",
       "      <td>Baltimore-Washington Parkway</td>\n",
       "      <td>Parkway</td>\n",
       "      <td>MD</td>\n",
       "      <td>lat:39.02604289, long:-76.85410921</td>\n",
       "    </tr>\n",
       "    <tr>\n",
       "      <th>9</th>\n",
       "      <td>bepa</td>\n",
       "      <td>Belmont-Paul Women's Equality National Monument</td>\n",
       "      <td>National Monument</td>\n",
       "      <td>DC</td>\n",
       "      <td>lat:38.89231541, long:-77.00381882</td>\n",
       "    </tr>\n",
       "  </tbody>\n",
       "</table>\n",
       "</div>"
      ],
      "text/plain": [
       "  parkCode                                         fullName  \\\n",
       "0     afam              African American Civil War Memorial   \n",
       "1     anac                                   Anacostia Park   \n",
       "2     anti                    Antietam National Battlefield   \n",
       "3     appa                Appalachian National Scenic Trail   \n",
       "4     apco  Appomattox Court House National Historical Park   \n",
       "5     arho     Arlington House, The Robert  E. Lee Memorial   \n",
       "6     asis              Assateague Island National Seashore   \n",
       "7     balt                 Baltimore National Heritage Area   \n",
       "8     bawa                     Baltimore-Washington Parkway   \n",
       "9     bepa  Belmont-Paul Women's Equality National Monument   \n",
       "\n",
       "                designation                                     states  \\\n",
       "0                                                                   DC   \n",
       "1                      Park                                         DC   \n",
       "2      National Battlefield                                         MD   \n",
       "3     National Scenic Trail  CT,GA,MA,MD,ME,NC,NH,NJ,NY,PA,TN,VA,VT,WV   \n",
       "4  National Historical Park                                         VA   \n",
       "5                                                                   VA   \n",
       "6         National Seashore                                      MD,VA   \n",
       "7    National Heritage Area                                         MD   \n",
       "8                   Parkway                                         MD   \n",
       "9         National Monument                                         DC   \n",
       "\n",
       "                                        latLong  \n",
       "0                lat:38.916554, long:-77.025977  \n",
       "1            lat:38.89644397, long:-76.96314236  \n",
       "2            lat:39.46763452, long:-77.73828017  \n",
       "3             lat:40.41029575, long:-76.4337548  \n",
       "4            lat:37.38022164, long:-78.79856982  \n",
       "5  lat:38.8822021484375, long:-77.0734786987305  \n",
       "6            lat:38.05593172, long:-75.24524611  \n",
       "7  lat:39.2904968261719, long:-76.6284027099609  \n",
       "8            lat:39.02604289, long:-76.85410921  \n",
       "9            lat:38.89231541, long:-77.00381882  "
      ]
     },
     "execution_count": 6,
     "metadata": {},
     "output_type": "execute_result"
    }
   ],
   "source": [
    "parks_df = pd.DataFrame(parks_data['data'])\n",
    "locations_df = parks_df[['parkCode', 'fullName', 'designation', 'states', 'latLong']]\n",
    "locations_df.head(10)"
   ]
  },
  {
   "cell_type": "markdown",
   "metadata": {
    "slideshow": {
     "slide_type": "slide"
    }
   },
   "source": [
    "### Restructure/flatten data\n",
    "\n",
    "Retrieved JSON data for an individual park's multiple entrance fees."
   ]
  },
  {
   "cell_type": "code",
   "execution_count": 7,
   "metadata": {
    "slideshow": {
     "slide_type": "-"
    }
   },
   "outputs": [
    {
     "data": {
      "text/plain": [
       "[{'cost': '7.0000',\n",
       "  'description': '3 day pass - $7.00 per bike or motorcycle \\nThis is the entry fee to the battlefield proper, museum, movie, and ranger programs.',\n",
       "  'title': 'Antietam National Battlefield Entrance Fee'},\n",
       " {'cost': '15.0000',\n",
       "  'description': '3 day vehicle pass.  This pass covers everyone in a vehicle, ie. family.  The pass covers entry to the battlefield proper, museum, movie, and ranger programs.',\n",
       "  'title': 'Antietam National Battlefield Entrance Fee'}]"
      ]
     },
     "execution_count": 7,
     "metadata": {},
     "output_type": "execute_result"
    }
   ],
   "source": [
    "parks_data['data'][2]['entranceFees']"
   ]
  },
  {
   "cell_type": "markdown",
   "metadata": {
    "slideshow": {
     "slide_type": "slide"
    }
   },
   "source": [
    "For each park in the dataset, and for each entrance fee in that park, add some park and fee values as a dictionary to a new `entry_fee_data` list."
   ]
  },
  {
   "cell_type": "code",
   "execution_count": 8,
   "metadata": {
    "slideshow": {
     "slide_type": "-"
    }
   },
   "outputs": [],
   "source": [
    "entry_fees_data = []\n",
    "for park in parks_data['data']:\n",
    "    for fee in park['entranceFees']:\n",
    "        entry_fees_data.append({\n",
    "            'parkCode': park['parkCode'],\n",
    "            'fullName': park['fullName'],\n",
    "            'designation': park['designation'],\n",
    "            'fee_usd': fee['cost'],\n",
    "            'fee_type': fee['title'],\n",
    "            'fee_description': fee['description']\n",
    "        })"
   ]
  },
  {
   "cell_type": "markdown",
   "metadata": {
    "slideshow": {
     "slide_type": "slide"
    }
   },
   "source": [
    "Convert `entry_fee_data` to a DataFrame"
   ]
  },
  {
   "cell_type": "code",
   "execution_count": 9,
   "metadata": {
    "slideshow": {
     "slide_type": "-"
    }
   },
   "outputs": [
    {
     "data": {
      "text/html": [
       "<div>\n",
       "<style scoped>\n",
       "    .dataframe tbody tr th:only-of-type {\n",
       "        vertical-align: middle;\n",
       "    }\n",
       "\n",
       "    .dataframe tbody tr th {\n",
       "        vertical-align: top;\n",
       "    }\n",
       "\n",
       "    .dataframe thead th {\n",
       "        text-align: right;\n",
       "    }\n",
       "</style>\n",
       "<table border=\"1\" class=\"dataframe\">\n",
       "  <thead>\n",
       "    <tr style=\"text-align: right;\">\n",
       "      <th></th>\n",
       "      <th>parkCode</th>\n",
       "      <th>fullName</th>\n",
       "      <th>designation</th>\n",
       "      <th>fee_usd</th>\n",
       "      <th>fee_type</th>\n",
       "    </tr>\n",
       "  </thead>\n",
       "  <tbody>\n",
       "    <tr>\n",
       "      <th>0</th>\n",
       "      <td>afam</td>\n",
       "      <td>African American Civil War Memorial</td>\n",
       "      <td></td>\n",
       "      <td>0.0</td>\n",
       "      <td>No Entrance Fee</td>\n",
       "    </tr>\n",
       "    <tr>\n",
       "      <th>1</th>\n",
       "      <td>anac</td>\n",
       "      <td>Anacostia Park</td>\n",
       "      <td>Park</td>\n",
       "      <td>0.0</td>\n",
       "      <td>Entrance Fees</td>\n",
       "    </tr>\n",
       "    <tr>\n",
       "      <th>2</th>\n",
       "      <td>anti</td>\n",
       "      <td>Antietam National Battlefield</td>\n",
       "      <td>National Battlefield</td>\n",
       "      <td>7.0</td>\n",
       "      <td>Antietam National Battlefield Entrance Fee</td>\n",
       "    </tr>\n",
       "    <tr>\n",
       "      <th>3</th>\n",
       "      <td>anti</td>\n",
       "      <td>Antietam National Battlefield</td>\n",
       "      <td>National Battlefield</td>\n",
       "      <td>15.0</td>\n",
       "      <td>Antietam National Battlefield Entrance Fee</td>\n",
       "    </tr>\n",
       "    <tr>\n",
       "      <th>4</th>\n",
       "      <td>appa</td>\n",
       "      <td>Appalachian National Scenic Trail</td>\n",
       "      <td>National Scenic Trail</td>\n",
       "      <td>0.0</td>\n",
       "      <td>Appalachian National Scenic Trail Entrance Fee</td>\n",
       "    </tr>\n",
       "    <tr>\n",
       "      <th>5</th>\n",
       "      <td>apco</td>\n",
       "      <td>Appomattox Court House National Historical Park</td>\n",
       "      <td>National Historical Park</td>\n",
       "      <td>0.0</td>\n",
       "      <td>Entrance Fee</td>\n",
       "    </tr>\n",
       "    <tr>\n",
       "      <th>6</th>\n",
       "      <td>arho</td>\n",
       "      <td>Arlington House, The Robert  E. Lee Memorial</td>\n",
       "      <td></td>\n",
       "      <td>0.0</td>\n",
       "      <td>No Fee</td>\n",
       "    </tr>\n",
       "    <tr>\n",
       "      <th>7</th>\n",
       "      <td>asis</td>\n",
       "      <td>Assateague Island National Seashore</td>\n",
       "      <td>National Seashore</td>\n",
       "      <td>20.0</td>\n",
       "      <td>Assateague 7 day per vehicle pass</td>\n",
       "    </tr>\n",
       "    <tr>\n",
       "      <th>8</th>\n",
       "      <td>asis</td>\n",
       "      <td>Assateague Island National Seashore</td>\n",
       "      <td>National Seashore</td>\n",
       "      <td>20.0</td>\n",
       "      <td>Chincoteague National Wildlife Refuge Weekly Pass</td>\n",
       "    </tr>\n",
       "    <tr>\n",
       "      <th>9</th>\n",
       "      <td>balt</td>\n",
       "      <td>Baltimore National Heritage Area</td>\n",
       "      <td>National Heritage Area</td>\n",
       "      <td>0.0</td>\n",
       "      <td>Baltimore National Heritage Area</td>\n",
       "    </tr>\n",
       "  </tbody>\n",
       "</table>\n",
       "</div>"
      ],
      "text/plain": [
       "  parkCode                                         fullName  \\\n",
       "0     afam              African American Civil War Memorial   \n",
       "1     anac                                   Anacostia Park   \n",
       "2     anti                    Antietam National Battlefield   \n",
       "3     anti                    Antietam National Battlefield   \n",
       "4     appa                Appalachian National Scenic Trail   \n",
       "5     apco  Appomattox Court House National Historical Park   \n",
       "6     arho     Arlington House, The Robert  E. Lee Memorial   \n",
       "7     asis              Assateague Island National Seashore   \n",
       "8     asis              Assateague Island National Seashore   \n",
       "9     balt                 Baltimore National Heritage Area   \n",
       "\n",
       "                designation  fee_usd  \\\n",
       "0                                0.0   \n",
       "1                      Park      0.0   \n",
       "2      National Battlefield      7.0   \n",
       "3      National Battlefield     15.0   \n",
       "4     National Scenic Trail      0.0   \n",
       "5  National Historical Park      0.0   \n",
       "6                                0.0   \n",
       "7         National Seashore     20.0   \n",
       "8         National Seashore     20.0   \n",
       "9    National Heritage Area      0.0   \n",
       "\n",
       "                                            fee_type  \n",
       "0                                    No Entrance Fee  \n",
       "1                                      Entrance Fees  \n",
       "2         Antietam National Battlefield Entrance Fee  \n",
       "3         Antietam National Battlefield Entrance Fee  \n",
       "4     Appalachian National Scenic Trail Entrance Fee  \n",
       "5                                       Entrance Fee  \n",
       "6                                             No Fee  \n",
       "7                  Assateague 7 day per vehicle pass  \n",
       "8  Chincoteague National Wildlife Refuge Weekly Pass  \n",
       "9                   Baltimore National Heritage Area  "
      ]
     },
     "execution_count": 9,
     "metadata": {},
     "output_type": "execute_result"
    }
   ],
   "source": [
    "entry_fees_df = pd.DataFrame(entry_fees_data)\n",
    "entry_fees_df = entry_fees_df[['parkCode', 'fullName', 'designation', 'fee_usd', 'fee_type']]\n",
    "entry_fees_df['fee_usd'] = entry_fees_df['fee_usd'].astype(float)\n",
    "entry_fees_df.head(10)"
   ]
  },
  {
   "cell_type": "markdown",
   "metadata": {
    "slideshow": {
     "slide_type": "slide"
    }
   },
   "source": [
    "## Export data as a tabular file\n",
    "\n",
    "CSV file: `df_name.to_csv('output_file_name.csv', index=False)`\n",
    "\n",
    "TSV file: `df_name.to_csv('output_file_name.tsv', sep='\\t', index=False)`"
   ]
  },
  {
   "cell_type": "code",
   "execution_count": 10,
   "metadata": {
    "slideshow": {
     "slide_type": "-"
    }
   },
   "outputs": [],
   "source": [
    "locations_df.to_csv('parks_data.tsv', sep='\\t', index=False)\n",
    "entry_fees_df.to_csv('parks_entry_fees.tsv', sep='\\t', index=False)"
   ]
  },
  {
   "cell_type": "markdown",
   "metadata": {
    "slideshow": {
     "slide_type": "slide"
    }
   },
   "source": [
    "Additional API Resources\n",
    "-------------------------------\n",
    "\n",
    "Full Requests documentation: https://3.python-requests.org/\n",
    "\n",
    "List of US Federal Government APIs: https://catalog.data.gov/dataset?res_format=API\n",
    "\n",
    "Repository of APIs: https://www.programmableweb.com/"
   ]
  }
 ],
 "metadata": {
  "celltoolbar": "Slideshow",
  "kernelspec": {
   "display_name": "Python [default]",
   "language": "python",
   "name": "python3"
  },
  "language_info": {
   "codemirror_mode": {
    "name": "ipython",
    "version": 3
   },
   "file_extension": ".py",
   "mimetype": "text/x-python",
   "name": "python",
   "nbconvert_exporter": "python",
   "pygments_lexer": "ipython3",
   "version": "3.5.6"
  }
 },
 "nbformat": 4,
 "nbformat_minor": 2
}
