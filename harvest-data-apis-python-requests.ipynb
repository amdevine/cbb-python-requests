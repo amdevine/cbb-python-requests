{
 "cells": [
  {
   "cell_type": "markdown",
   "metadata": {
    "slideshow": {
     "slide_type": "slide"
    }
   },
   "source": [
    "Amanda Devine  \n",
    "25 July 2019  \n",
    "SI Carpentries Brown Bag  \n",
    "https://github.com/amdevine/cbb-python-requests\n",
    "\n",
    "\n",
    "Harvest data from Web APIs using the Python Requests library\n",
    "===================================================="
   ]
  },
  {
   "cell_type": "markdown",
   "metadata": {
    "slideshow": {
     "slide_type": "slide"
    }
   },
   "source": [
    "This Jupyter notebook walks through the process of using the Python Requests library, in conjunction with the Pandas library, to download data from website REST API services.\n",
    "\n",
    "As an example dataset, this notebook uses data on the US National Parks available via the United States National Park Service Data API."
   ]
  },
  {
   "cell_type": "markdown",
   "metadata": {
    "slideshow": {
     "slide_type": "slide"
    }
   },
   "source": [
    "Definitions\n",
    "------------------\n",
    "\n",
    "- **API**: Application Programming Interface. A special page on a website that provides structured data for other programs and applications.\n",
    "    + **REST**: Newer API format, easily accessed via URL, returns data in a variety of formats including JSON \n",
    "    + **SOAP**: Older API format, more complex, accepts queries and returns data in XML only\n",
    "\n",
    "\n",
    "- **GET Request**: An HTTP command to retrieve code and data from a website. GET requests can be made in a variety of ways; the Requests library offers a very easy way to make GET requests from Python.\n",
    "\n",
    "\n",
    "- **JSON**: JavaScript Object Notation. A common format of structuring data, analogous to a Python dictionary.\n",
    "\n",
    "\n",
    "- **Base URL**: The website URL for all API data. A variety of endpoints can be added to the base URL.\n",
    "    > NPS Base URL: `https://developer.nps.gov/api/v1`"
   ]
  },
  {
   "cell_type": "markdown",
   "metadata": {
    "slideshow": {
     "slide_type": "slide"
    }
   },
   "source": [
    "- **Endpoint**: The specific URL where the API page can be found. Each website might have multiple endpoints that return different kinds of data. \n",
    "    > Parks Endpoint: `https://developer.nps.gov/api/v1/parks`\n",
    "\n",
    "\n",
    "- **Parameter**: An additional criterion that is added to the endpoint to filter data returned. Parameters are usually added to the endpoint with a `?` character, and are in the format of `field=value`. Multiple parameters can be added to an endpoint, separated by a `&`.\n",
    "    > parkCode, stateCode, and limit parameters: `https://developer.nps.gov/api/v1/parks?parkCode=yell&stateCode=WY&limit=5`\n",
    "    \n",
    "\n",
    "- **API Key**: A string of characters assigned by the website to identify the user requesting data via the API. For many API services, an API Key is required when making a request.\n",
    "    > National Parks API Key: `https://developer.nps.gov/api/v1/parks?api_key=1mdaBewB37R0kUA2ZtfA6URe7PeUsig6jLQmSXyx` (not a real key!)"
   ]
  },
  {
   "cell_type": "markdown",
   "metadata": {
    "slideshow": {
     "slide_type": "skip"
    }
   },
   "source": [
    "NPS Data API\n",
    "-----------------\n",
    "\n",
    "The National Park Service (NPS) Data API is a service provided by the United States National Park Service to supply data about natural areas managed by the National Park Service. Data available through the API include \n",
    "- park information\n",
    "- campground information\n",
    "- alerts, events, news, and educational resources.\n",
    "\n",
    "All users of the NPS Data API are required to have an API Key. Keys can be obtained here: https://www.nps.gov/subjects/developer/get-started.htm\n",
    "\n",
    "API documentation is available here: https://www.nps.gov/subjects/developer/api-documentation.htm  \n",
    "This documentation shows a list of possible endpoints. Clicking on an endpoint shows the parameters that can be supplied to that endpoint to filter results, as well as an example of the JSON data that will be returned from a GET request.\n",
    "\n",
    "The NPS Data API GitHub Repository contains examples of using Python and/or PHP to retrieve data. It is available here: https://github.com/nationalparkservice/nps-api-samples"
   ]
  },
  {
   "cell_type": "markdown",
   "metadata": {
    "slideshow": {
     "slide_type": "slide"
    }
   },
   "source": [
    "Python `requests` library\n",
    "-----------------------------\n",
    "\n",
    "The Python Requests library provides a simple way to query and retrieve JSON data from API services. It is a wrapper that calls other Python libraries such as `urllib`.\n",
    "\n",
    "Requests can be download via Terminal/Command Line with `conda install requests` (if you are running Anaconda/Miniconda) or `pip install requests` (if you are running base Python).\n",
    "\n",
    "Making a GET request to retrieve JSON data with Requests is usually done in the following way:\n",
    "\n",
    "    import requests\n",
    "    url = 'https://baseurl.com/endpoint'\n",
    "    params = {\n",
    "        'field1': 'value1',\n",
    "        'field2': 'value2',\n",
    "    }\n",
    "    r = requests.get(url, params).json()\n",
    "\n",
    "This creates a dictionary, `r`, from which data can be accessed via key-value pairs."
   ]
  },
  {
   "cell_type": "markdown",
   "metadata": {
    "slideshow": {
     "slide_type": "skip"
    }
   },
   "source": [
    "Parameters supplied to a GET request are automatically encoded to HTML specifications. \n",
    "\n",
    "> e.g. the parameter `'q': 'César E. Chávez'` is automatically encoded to `q=C%C3%A9sar%20E.%20Ch%C3%A1vez` by Requests\n",
    "\n",
    "Requests has significantly more functionality and many more options beyond simple GET requests. Quickstart documentation is available here: https://2.python-requests.org/en/master/user/quickstart/"
   ]
  },
  {
   "cell_type": "markdown",
   "metadata": {
    "slideshow": {
     "slide_type": "slide"
    }
   },
   "source": [
    "Setup\n",
    "--------\n",
    "\n",
    "Import the `requests` library to retrieve data from the NPS Data API. Import the `pandas` library to work with retrieved data and export as tabular files. "
   ]
  },
  {
   "cell_type": "code",
   "execution_count": 1,
   "metadata": {
    "slideshow": {
     "slide_type": "-"
    }
   },
   "outputs": [],
   "source": [
    "import requests\n",
    "import pandas as pd\n",
    "import pprint   # Prints dictionaries/JSON in a more human-readable format"
   ]
  },
  {
   "cell_type": "markdown",
   "metadata": {
    "slideshow": {
     "slide_type": "-"
    }
   },
   "source": [
    "Assign the API Key to a constant. If the code will be available on GitHub or other public sites, avoid assigning it directly and import it from a local file instead. (And don't add this file to GitHub!)"
   ]
  },
  {
   "cell_type": "code",
   "execution_count": 2,
   "metadata": {
    "slideshow": {
     "slide_type": "-"
    }
   },
   "outputs": [
    {
     "name": "stdout",
     "output_type": "stream",
     "text": [
      "API Key: API_KEY\n"
     ]
    }
   ],
   "source": [
    "# API_KEY = '1mdaBewB37R0kUA2ZtfA6URe7PeUsig6jLQmSXyx'\n",
    "with open('api_key_file.txt', 'r') as f:\n",
    "    API_KEY = f.read().strip()\n",
    "print(\"API Key: {}\".format(\"API_KEY\")) # Remove quotes to display actual API_KEY"
   ]
  },
  {
   "cell_type": "markdown",
   "metadata": {
    "slideshow": {
     "slide_type": "slide"
    }
   },
   "source": [
    "Make a GET request to the API to retrieve data\n",
    "--------------------------------------------------------\n",
    "\n",
    "Use `requests.get()` to make an **HTTP GET Request** to the API. Any parameters can be provided to requests.get() as a dictionary."
   ]
  },
  {
   "cell_type": "markdown",
   "metadata": {
    "slideshow": {
     "slide_type": "fragment"
    }
   },
   "source": [
    "The following request will return data on up to 100 parks in Washington DC, Maryland, and Virginia. `api_key` is a required parameter for all NPS Data API requests. `stateCode` filters parks based on two-letter US state abbreviations. `fields` specifies additional fields to return in addition to the default fields. `limit` specifies the maximum number of results to return."
   ]
  },
  {
   "cell_type": "code",
   "execution_count": 3,
   "metadata": {
    "slideshow": {
     "slide_type": "-"
    }
   },
   "outputs": [],
   "source": [
    "url = 'https://developer.nps.gov/api/v1/parks'\n",
    "params = {\n",
    "    'api_key': API_KEY,\n",
    "    'stateCode': 'DC,MD,VA', # Per the API documentation, separate multiple values with commas\n",
    "    'fields': 'entranceFees',\n",
    "    'limit': 100\n",
    "}\n",
    "r = requests.get(url, params)"
   ]
  },
  {
   "cell_type": "markdown",
   "metadata": {
    "slideshow": {
     "slide_type": "slide"
    }
   },
   "source": [
    "`requests.get()` returns a variety of information about the web page retrieved. This info can be useful for troubleshooting."
   ]
  },
  {
   "cell_type": "code",
   "execution_count": 4,
   "metadata": {
    "slideshow": {
     "slide_type": "-"
    }
   },
   "outputs": [
    {
     "name": "stdout",
     "output_type": "stream",
     "text": [
      "The response code is: 200\n",
      "\n",
      "The retrieved URL is: r.url\n",
      "\n",
      "The first 300 characters of the retrieved text are:\n",
      "{\"total\":\"80\",\"data\":[{\"states\":\"DC\",\"entranceFees\":[{\"cost\":\"0.0000\",\"description\":\"No Entrance Fee to enter park site.\",\"title\":\"No Entrance Fee\"}],\"directionsInfo\":\"The memorial is located at the corner of Vermont Avenue, 10th St, and U Street NW, near the U Street\\/African-American Civil War Mem\n"
     ]
    }
   ],
   "source": [
    "print(\"The response code is: {}\".format(r.status_code))\n",
    "print(\"\\nThe retrieved URL is: {}\".format(\"r.url\")) # Remove quotes to display URL\n",
    "print(\"\\nThe first 300 characters of the retrieved text are:\\n{}\".format(r.text[:300]))"
   ]
  },
  {
   "cell_type": "markdown",
   "metadata": {
    "slideshow": {
     "slide_type": "slide"
    }
   },
   "source": [
    "## Work with retrieved data\n",
    "\n",
    "### Convert GET request object to dictionary\n",
    "\n",
    "When the API data are supplied in the **JSON** format, they can easily be turned into a Python dictionary using the Requests `.json()` method."
   ]
  },
  {
   "cell_type": "code",
   "execution_count": 5,
   "metadata": {
    "slideshow": {
     "slide_type": "fragment"
    }
   },
   "outputs": [
    {
     "name": "stdout",
     "output_type": "stream",
     "text": [
      "First item in 'data':\n",
      "\n",
      "{'description': 'Over 200,000 African-American soldiers and sailors served in '\n",
      "                'the U.S. Army and Navy during the Civil War. Their service '\n",
      "                'helped to end the war and free over four million slaves. The '\n",
      "                'African American Civil War Memorial honors their service and '\n",
      "                'sacrifice.',\n",
      " 'designation': '',\n",
      " 'directionsInfo': 'The memorial is located at the corner of Vermont Avenue, '\n",
      "                   '10th St, and U Street NW, near the U '\n",
      "                   'Street/African-American Civil War Memorial/Cardozo Metro '\n",
      "                   'Station.',\n",
      " 'directionsUrl': 'http://www.nps.gov/afam/planyourvisit/directions.htm',\n",
      " 'entranceFees': [{'cost': '0.0000',\n",
      "                   'description': 'No Entrance Fee to enter park site.',\n",
      "                   'title': 'No Entrance Fee'}],\n",
      " 'fullName': 'African American Civil War Memorial',\n",
      " 'id': '1A47416F-DAA3-4137-9F30-14AF86B4E547',\n",
      " 'latLong': 'lat:38.916554, long:-77.025977',\n",
      " 'name': 'African American Civil War Memorial',\n",
      " 'parkCode': 'afam',\n",
      " 'states': 'DC',\n",
      " 'url': 'https://www.nps.gov/afam/index.htm',\n",
      " 'weatherInfo': 'Washington DC gets to see all four seasons. Humidity will '\n",
      "                'make the temps feel hotter in summer and colder in winter.\\n'\n",
      "                '\\n'\n",
      "                'Spring (March - May) Temp: Average high is 65.5 degrees with '\n",
      "                'a low of 46.5 degrees\\n'\n",
      "                '\\n'\n",
      "                'Summer (June - August) Temp: Average high is 86 degrees with '\n",
      "                'a low of 68.5 degrees\\n'\n",
      "                '\\n'\n",
      "                'Fall (September - November) Temp: Average high is 68 degrees '\n",
      "                'with a low of 51.5 degrees\\n'\n",
      "                '\\n'\n",
      "                'Winter (December - February) Temp: Average high is 45 degrees '\n",
      "                'with a low of 30 degrees\\n'\n",
      "                '\\n'\n",
      "                '(Source: www.usclimatedata.com)'}\n"
     ]
    }
   ],
   "source": [
    "parks_data = r.json()\n",
    "\n",
    "print(\"First item in 'data':\\n\")\n",
    "pprint.pprint(parks_data['data'][0])"
   ]
  },
  {
   "cell_type": "markdown",
   "metadata": {
    "slideshow": {
     "slide_type": "slide"
    }
   },
   "source": [
    "### Create a Pandas DataFrame\n",
    "\n",
    "Pandas DataFrames make it easy to work with the retrieved data in a tabular format. \n",
    "\n",
    "This code filters the retrieved data to states and associated lat/long coordinate for each park."
   ]
  },
  {
   "cell_type": "code",
   "execution_count": 6,
   "metadata": {
    "slideshow": {
     "slide_type": "fragment"
    }
   },
   "outputs": [
    {
     "data": {
      "text/html": [
       "<div>\n",
       "<style scoped>\n",
       "    .dataframe tbody tr th:only-of-type {\n",
       "        vertical-align: middle;\n",
       "    }\n",
       "\n",
       "    .dataframe tbody tr th {\n",
       "        vertical-align: top;\n",
       "    }\n",
       "\n",
       "    .dataframe thead th {\n",
       "        text-align: right;\n",
       "    }\n",
       "</style>\n",
       "<table border=\"1\" class=\"dataframe\">\n",
       "  <thead>\n",
       "    <tr style=\"text-align: right;\">\n",
       "      <th></th>\n",
       "      <th>parkCode</th>\n",
       "      <th>fullName</th>\n",
       "      <th>designation</th>\n",
       "      <th>states</th>\n",
       "      <th>latLong</th>\n",
       "    </tr>\n",
       "  </thead>\n",
       "  <tbody>\n",
       "    <tr>\n",
       "      <th>0</th>\n",
       "      <td>afam</td>\n",
       "      <td>African American Civil War Memorial</td>\n",
       "      <td></td>\n",
       "      <td>DC</td>\n",
       "      <td>lat:38.916554, long:-77.025977</td>\n",
       "    </tr>\n",
       "    <tr>\n",
       "      <th>1</th>\n",
       "      <td>anac</td>\n",
       "      <td>Anacostia Park</td>\n",
       "      <td>Park</td>\n",
       "      <td>DC</td>\n",
       "      <td>lat:38.89644397, long:-76.96314236</td>\n",
       "    </tr>\n",
       "    <tr>\n",
       "      <th>2</th>\n",
       "      <td>anti</td>\n",
       "      <td>Antietam National Battlefield</td>\n",
       "      <td>National Battlefield</td>\n",
       "      <td>MD</td>\n",
       "      <td>lat:39.46763452, long:-77.73828017</td>\n",
       "    </tr>\n",
       "    <tr>\n",
       "      <th>3</th>\n",
       "      <td>appa</td>\n",
       "      <td>Appalachian National Scenic Trail</td>\n",
       "      <td>National Scenic Trail</td>\n",
       "      <td>CT,GA,MA,MD,ME,NC,NH,NJ,NY,PA,TN,VA,VT,WV</td>\n",
       "      <td>lat:40.41029575, long:-76.4337548</td>\n",
       "    </tr>\n",
       "    <tr>\n",
       "      <th>4</th>\n",
       "      <td>apco</td>\n",
       "      <td>Appomattox Court House National Historical Park</td>\n",
       "      <td>National Historical Park</td>\n",
       "      <td>VA</td>\n",
       "      <td>lat:37.38022164, long:-78.79856982</td>\n",
       "    </tr>\n",
       "    <tr>\n",
       "      <th>5</th>\n",
       "      <td>arho</td>\n",
       "      <td>Arlington House, The Robert  E. Lee Memorial</td>\n",
       "      <td></td>\n",
       "      <td>VA</td>\n",
       "      <td>lat:38.8822021484375, long:-77.0734786987305</td>\n",
       "    </tr>\n",
       "    <tr>\n",
       "      <th>6</th>\n",
       "      <td>asis</td>\n",
       "      <td>Assateague Island National Seashore</td>\n",
       "      <td>National Seashore</td>\n",
       "      <td>MD,VA</td>\n",
       "      <td>lat:38.05593172, long:-75.24524611</td>\n",
       "    </tr>\n",
       "    <tr>\n",
       "      <th>7</th>\n",
       "      <td>balt</td>\n",
       "      <td>Baltimore National Heritage Area</td>\n",
       "      <td>National Heritage Area</td>\n",
       "      <td>MD</td>\n",
       "      <td>lat:39.2904968261719, long:-76.6284027099609</td>\n",
       "    </tr>\n",
       "    <tr>\n",
       "      <th>8</th>\n",
       "      <td>bawa</td>\n",
       "      <td>Baltimore-Washington Parkway</td>\n",
       "      <td>Parkway</td>\n",
       "      <td>MD</td>\n",
       "      <td>lat:39.02604289, long:-76.85410921</td>\n",
       "    </tr>\n",
       "    <tr>\n",
       "      <th>9</th>\n",
       "      <td>bepa</td>\n",
       "      <td>Belmont-Paul Women's Equality National Monument</td>\n",
       "      <td>National Monument</td>\n",
       "      <td>DC</td>\n",
       "      <td>lat:38.89231541, long:-77.00381882</td>\n",
       "    </tr>\n",
       "  </tbody>\n",
       "</table>\n",
       "</div>"
      ],
      "text/plain": [
       "  parkCode                                         fullName  \\\n",
       "0     afam              African American Civil War Memorial   \n",
       "1     anac                                   Anacostia Park   \n",
       "2     anti                    Antietam National Battlefield   \n",
       "3     appa                Appalachian National Scenic Trail   \n",
       "4     apco  Appomattox Court House National Historical Park   \n",
       "5     arho     Arlington House, The Robert  E. Lee Memorial   \n",
       "6     asis              Assateague Island National Seashore   \n",
       "7     balt                 Baltimore National Heritage Area   \n",
       "8     bawa                     Baltimore-Washington Parkway   \n",
       "9     bepa  Belmont-Paul Women's Equality National Monument   \n",
       "\n",
       "                designation                                     states  \\\n",
       "0                                                                   DC   \n",
       "1                      Park                                         DC   \n",
       "2      National Battlefield                                         MD   \n",
       "3     National Scenic Trail  CT,GA,MA,MD,ME,NC,NH,NJ,NY,PA,TN,VA,VT,WV   \n",
       "4  National Historical Park                                         VA   \n",
       "5                                                                   VA   \n",
       "6         National Seashore                                      MD,VA   \n",
       "7    National Heritage Area                                         MD   \n",
       "8                   Parkway                                         MD   \n",
       "9         National Monument                                         DC   \n",
       "\n",
       "                                        latLong  \n",
       "0                lat:38.916554, long:-77.025977  \n",
       "1            lat:38.89644397, long:-76.96314236  \n",
       "2            lat:39.46763452, long:-77.73828017  \n",
       "3             lat:40.41029575, long:-76.4337548  \n",
       "4            lat:37.38022164, long:-78.79856982  \n",
       "5  lat:38.8822021484375, long:-77.0734786987305  \n",
       "6            lat:38.05593172, long:-75.24524611  \n",
       "7  lat:39.2904968261719, long:-76.6284027099609  \n",
       "8            lat:39.02604289, long:-76.85410921  \n",
       "9            lat:38.89231541, long:-77.00381882  "
      ]
     },
     "execution_count": 6,
     "metadata": {},
     "output_type": "execute_result"
    }
   ],
   "source": [
    "parks_df = pd.DataFrame(parks_data['data'])\n",
    "locations_df = parks_df[['parkCode', 'fullName', 'designation', 'states', 'latLong']]\n",
    "locations_df.head(10)"
   ]
  },
  {
   "cell_type": "markdown",
   "metadata": {
    "slideshow": {
     "slide_type": "slide"
    }
   },
   "source": [
    "### Restructure/flatten data\n",
    "\n",
    "If the results contain nested data that need to be flattened (e.g. multiple `entranceFees` for each park), or the results could be otherwise restructured in a more \"tidy\" format, a new list of dictionaries can be created by iterating through the data. This list can then be converted to a DataFrame."
   ]
  },
  {
   "cell_type": "markdown",
   "metadata": {
    "slideshow": {
     "slide_type": "fragment"
    }
   },
   "source": [
    "JSON data for an individual park's multiple entrance fees:"
   ]
  },
  {
   "cell_type": "code",
   "execution_count": 7,
   "metadata": {
    "slideshow": {
     "slide_type": "-"
    }
   },
   "outputs": [
    {
     "name": "stdout",
     "output_type": "stream",
     "text": [
      "{'description': '23,000 soldiers were killed, wounded or missing after twelve '\n",
      "                'hours of savage combat on September 17, 1862. The Battle of '\n",
      "                \"Antietam ended the Confederate Army of Northern Virginia's \"\n",
      "                'first invasion into the North and led Abraham Lincoln to '\n",
      "                'issue the preliminary Emancipation Proclamation.',\n",
      " 'designation': 'National Battlefield',\n",
      " 'directionsInfo': 'Ten miles south of I-70 on Maryland Route 65',\n",
      " 'directionsUrl': 'http://www.nps.gov/anti/planyourvisit/directions.htm',\n",
      " 'entranceFees': [{'cost': '7.0000',\n",
      "                   'description': '3 day pass - $7.00 per bike or motorcycle \\n'\n",
      "                                  'This is the entry fee to the battlefield '\n",
      "                                  'proper, museum, movie, and ranger programs.',\n",
      "                   'title': 'Antietam National Battlefield Entrance Fee'},\n",
      "                  {'cost': '15.0000',\n",
      "                   'description': '3 day vehicle pass.  This pass covers '\n",
      "                                  'everyone in a vehicle, ie. family.  The '\n",
      "                                  'pass covers entry to the battlefield '\n",
      "                                  'proper, museum, movie, and ranger programs.',\n",
      "                   'title': 'Antietam National Battlefield Entrance Fee'}],\n",
      " 'fullName': 'Antietam National Battlefield',\n",
      " 'id': '8415526C-C932-4236-A634-2D89DF718936',\n",
      " 'latLong': 'lat:39.46763452, long:-77.73828017',\n",
      " 'name': 'Antietam',\n",
      " 'parkCode': 'anti',\n",
      " 'states': 'MD',\n",
      " 'url': 'https://www.nps.gov/anti/index.htm',\n",
      " 'weatherInfo': 'The weather is fairly mild.  Summers can be very warm and '\n",
      "                'humid and winters cold and snowy.  We have four distinct '\n",
      "                'seasons with the fall and spring being the best times to '\n",
      "                'visit the battlefield.'}\n"
     ]
    }
   ],
   "source": [
    "pprint.pprint(parks_data['data'][2])"
   ]
  },
  {
   "cell_type": "markdown",
   "metadata": {
    "slideshow": {
     "slide_type": "slide"
    }
   },
   "source": [
    "For each park in the dataset, and for each entrance fee in that park, add some park and fee values as a dictionary to a new `entry_fee_data` list."
   ]
  },
  {
   "cell_type": "code",
   "execution_count": 8,
   "metadata": {
    "slideshow": {
     "slide_type": "fragment"
    }
   },
   "outputs": [
    {
     "name": "stdout",
     "output_type": "stream",
     "text": [
      "[{'designation': 'National Battlefield',\n",
      "  'fee_description': '3 day pass - $7.00 per bike or motorcycle \\n'\n",
      "                     'This is the entry fee to the battlefield proper, museum, '\n",
      "                     'movie, and ranger programs.',\n",
      "  'fee_type': 'Antietam National Battlefield Entrance Fee',\n",
      "  'fee_usd': '7.0000',\n",
      "  'fullName': 'Antietam National Battlefield',\n",
      "  'parkCode': 'anti'},\n",
      " {'designation': 'National Battlefield',\n",
      "  'fee_description': '3 day vehicle pass.  This pass covers everyone in a '\n",
      "                     'vehicle, ie. family.  The pass covers entry to the '\n",
      "                     'battlefield proper, museum, movie, and ranger programs.',\n",
      "  'fee_type': 'Antietam National Battlefield Entrance Fee',\n",
      "  'fee_usd': '15.0000',\n",
      "  'fullName': 'Antietam National Battlefield',\n",
      "  'parkCode': 'anti'}]\n"
     ]
    }
   ],
   "source": [
    "entry_fees_data = []\n",
    "\n",
    "for park in parks_data['data']:\n",
    "    for fee in park['entranceFees']:\n",
    "        entry_fees_data.append({\n",
    "            'parkCode': park['parkCode'],\n",
    "            'fullName': park['fullName'],\n",
    "            'designation': park['designation'],\n",
    "            'fee_usd': fee['cost'],\n",
    "            'fee_type': fee['title'],\n",
    "            'fee_description': fee['description']\n",
    "        })\n",
    "        \n",
    "pprint.pprint(entry_fees_data[2:4])"
   ]
  },
  {
   "cell_type": "markdown",
   "metadata": {
    "slideshow": {
     "slide_type": "slide"
    }
   },
   "source": [
    "Convert `entry_fee_data` to a DataFrame"
   ]
  },
  {
   "cell_type": "code",
   "execution_count": 9,
   "metadata": {
    "slideshow": {
     "slide_type": "fragment"
    }
   },
   "outputs": [
    {
     "data": {
      "text/html": [
       "<div>\n",
       "<style scoped>\n",
       "    .dataframe tbody tr th:only-of-type {\n",
       "        vertical-align: middle;\n",
       "    }\n",
       "\n",
       "    .dataframe tbody tr th {\n",
       "        vertical-align: top;\n",
       "    }\n",
       "\n",
       "    .dataframe thead th {\n",
       "        text-align: right;\n",
       "    }\n",
       "</style>\n",
       "<table border=\"1\" class=\"dataframe\">\n",
       "  <thead>\n",
       "    <tr style=\"text-align: right;\">\n",
       "      <th></th>\n",
       "      <th>parkCode</th>\n",
       "      <th>fullName</th>\n",
       "      <th>designation</th>\n",
       "      <th>fee_usd</th>\n",
       "      <th>fee_type</th>\n",
       "    </tr>\n",
       "  </thead>\n",
       "  <tbody>\n",
       "    <tr>\n",
       "      <th>0</th>\n",
       "      <td>afam</td>\n",
       "      <td>African American Civil War Memorial</td>\n",
       "      <td></td>\n",
       "      <td>0.0</td>\n",
       "      <td>No Entrance Fee</td>\n",
       "    </tr>\n",
       "    <tr>\n",
       "      <th>1</th>\n",
       "      <td>anac</td>\n",
       "      <td>Anacostia Park</td>\n",
       "      <td>Park</td>\n",
       "      <td>0.0</td>\n",
       "      <td>Entrance Fees</td>\n",
       "    </tr>\n",
       "    <tr>\n",
       "      <th>2</th>\n",
       "      <td>anti</td>\n",
       "      <td>Antietam National Battlefield</td>\n",
       "      <td>National Battlefield</td>\n",
       "      <td>7.0</td>\n",
       "      <td>Antietam National Battlefield Entrance Fee</td>\n",
       "    </tr>\n",
       "    <tr>\n",
       "      <th>3</th>\n",
       "      <td>anti</td>\n",
       "      <td>Antietam National Battlefield</td>\n",
       "      <td>National Battlefield</td>\n",
       "      <td>15.0</td>\n",
       "      <td>Antietam National Battlefield Entrance Fee</td>\n",
       "    </tr>\n",
       "    <tr>\n",
       "      <th>4</th>\n",
       "      <td>appa</td>\n",
       "      <td>Appalachian National Scenic Trail</td>\n",
       "      <td>National Scenic Trail</td>\n",
       "      <td>0.0</td>\n",
       "      <td>Appalachian National Scenic Trail Entrance Fee</td>\n",
       "    </tr>\n",
       "    <tr>\n",
       "      <th>5</th>\n",
       "      <td>apco</td>\n",
       "      <td>Appomattox Court House National Historical Park</td>\n",
       "      <td>National Historical Park</td>\n",
       "      <td>0.0</td>\n",
       "      <td>Entrance Fee</td>\n",
       "    </tr>\n",
       "    <tr>\n",
       "      <th>6</th>\n",
       "      <td>arho</td>\n",
       "      <td>Arlington House, The Robert  E. Lee Memorial</td>\n",
       "      <td></td>\n",
       "      <td>0.0</td>\n",
       "      <td>No Fee</td>\n",
       "    </tr>\n",
       "    <tr>\n",
       "      <th>7</th>\n",
       "      <td>asis</td>\n",
       "      <td>Assateague Island National Seashore</td>\n",
       "      <td>National Seashore</td>\n",
       "      <td>20.0</td>\n",
       "      <td>Assateague 7 day per vehicle pass</td>\n",
       "    </tr>\n",
       "    <tr>\n",
       "      <th>8</th>\n",
       "      <td>asis</td>\n",
       "      <td>Assateague Island National Seashore</td>\n",
       "      <td>National Seashore</td>\n",
       "      <td>20.0</td>\n",
       "      <td>Chincoteague National Wildlife Refuge Weekly Pass</td>\n",
       "    </tr>\n",
       "    <tr>\n",
       "      <th>9</th>\n",
       "      <td>balt</td>\n",
       "      <td>Baltimore National Heritage Area</td>\n",
       "      <td>National Heritage Area</td>\n",
       "      <td>0.0</td>\n",
       "      <td>Baltimore National Heritage Area</td>\n",
       "    </tr>\n",
       "  </tbody>\n",
       "</table>\n",
       "</div>"
      ],
      "text/plain": [
       "  parkCode                                         fullName  \\\n",
       "0     afam              African American Civil War Memorial   \n",
       "1     anac                                   Anacostia Park   \n",
       "2     anti                    Antietam National Battlefield   \n",
       "3     anti                    Antietam National Battlefield   \n",
       "4     appa                Appalachian National Scenic Trail   \n",
       "5     apco  Appomattox Court House National Historical Park   \n",
       "6     arho     Arlington House, The Robert  E. Lee Memorial   \n",
       "7     asis              Assateague Island National Seashore   \n",
       "8     asis              Assateague Island National Seashore   \n",
       "9     balt                 Baltimore National Heritage Area   \n",
       "\n",
       "                designation  fee_usd  \\\n",
       "0                                0.0   \n",
       "1                      Park      0.0   \n",
       "2      National Battlefield      7.0   \n",
       "3      National Battlefield     15.0   \n",
       "4     National Scenic Trail      0.0   \n",
       "5  National Historical Park      0.0   \n",
       "6                                0.0   \n",
       "7         National Seashore     20.0   \n",
       "8         National Seashore     20.0   \n",
       "9    National Heritage Area      0.0   \n",
       "\n",
       "                                            fee_type  \n",
       "0                                    No Entrance Fee  \n",
       "1                                      Entrance Fees  \n",
       "2         Antietam National Battlefield Entrance Fee  \n",
       "3         Antietam National Battlefield Entrance Fee  \n",
       "4     Appalachian National Scenic Trail Entrance Fee  \n",
       "5                                       Entrance Fee  \n",
       "6                                             No Fee  \n",
       "7                  Assateague 7 day per vehicle pass  \n",
       "8  Chincoteague National Wildlife Refuge Weekly Pass  \n",
       "9                   Baltimore National Heritage Area  "
      ]
     },
     "execution_count": 9,
     "metadata": {},
     "output_type": "execute_result"
    }
   ],
   "source": [
    "entry_fees_df = pd.DataFrame(entry_fees_data)\n",
    "entry_fees_df = entry_fees_df[['parkCode', 'fullName', 'designation', 'fee_usd', 'fee_type']]\n",
    "entry_fees_df['fee_usd'] = entry_fees_df['fee_usd'].astype(float)\n",
    "entry_fees_df.head(10)"
   ]
  },
  {
   "cell_type": "markdown",
   "metadata": {
    "slideshow": {
     "slide_type": "slide"
    }
   },
   "source": [
    "## Export data as a tabular file\n",
    "\n",
    "Pandas DataFrames have a method, `.to_csv()`, that allows them to be exported as a CSV or TSV file. This file can be imported into another program for further analysis.\n",
    "\n",
    "CSV file: `df_name.to_csv('output_file_name.csv', index=False)`\n",
    "\n",
    "TSV file: `df_name.to_csv('output_file_name.tsv', sep='\\t', index=False)`"
   ]
  },
  {
   "cell_type": "code",
   "execution_count": 10,
   "metadata": {
    "slideshow": {
     "slide_type": "-"
    }
   },
   "outputs": [],
   "source": [
    "locations_df.to_csv('parks_data.tsv', sep='\\t', index=False)\n",
    "entry_fees_df.to_csv('parks_entry_fees.tsv', sep='\\t', index=False)"
   ]
  },
  {
   "cell_type": "markdown",
   "metadata": {},
   "source": [
    "Additional API Resources\n",
    "-------------------------------\n",
    "\n",
    "Full **Requests documentation**: https://2.python-requests.org/en/master\n",
    "\n",
    "**data.gov** is a repository of data produced by US Federal and State Government departments. In addition to data files, data.gov also provides a list of API services for Federal data (https://catalog.data.gov/dataset?res_format=API).\n",
    "\n",
    "**Programmable Web** (https://www.programmableweb.com/) is a website that aggregates information on APIs provided by governmental and private organizations. This can be a good resource for locating APIs of interest. "
   ]
  }
 ],
 "metadata": {
  "kernelspec": {
   "display_name": "Python 3",
   "language": "python",
   "name": "python3"
  },
  "language_info": {
   "codemirror_mode": {
    "name": "ipython",
    "version": 3
   },
   "file_extension": ".py",
   "mimetype": "text/x-python",
   "name": "python",
   "nbconvert_exporter": "python",
   "pygments_lexer": "ipython3",
   "version": "3.6.5"
  }
 },
 "nbformat": 4,
 "nbformat_minor": 2
}
