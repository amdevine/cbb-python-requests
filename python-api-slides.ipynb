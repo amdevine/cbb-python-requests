{
 "cells": [
  {
   "cell_type": "markdown",
   "metadata": {
    "slideshow": {
     "slide_type": "slide"
    }
   },
   "source": [
    "Harvest data from Web APIs using the Python Requests library\n",
    "====================================================\n",
    "\n",
    "Amanda Devine  \n",
    "25 July 2019  \n",
    "SI Carpentries Brown Bag\n",
    "\n",
    "<br><br><br><br>\n",
    "\n",
    "***\n",
    "\n",
    "GitHub Repository: https://github.com/amdevine/cbb-python-requests  \n",
    "Detailed Jupyter notebook: https://github.com/amdevine/cbb-python-requests/blob/master/harvest-data-apis-python-requests.ipynb "
   ]
  },
  {
   "cell_type": "markdown",
   "metadata": {
    "slideshow": {
     "slide_type": "slide"
    }
   },
   "source": [
    "Definitions\n",
    "------------------\n",
    "\n",
    "- **(REST) API**: Application Programming Interface. A special page on a website that provides structured data for other programs and applications.\n",
    "\n",
    "\n",
    "- **GET Request**: An HTTP command to retrieve code and data from a website. \n",
    "\n",
    "\n",
    "- **JSON**: JavaScript Object Notation. A common format of structuring data, analogous to a Python dictionary.\n",
    "\n",
    "\n",
    "- **Base URL**: The \"home\" website URL for all API data.\n",
    "    > NPS Base URL: `https://developer.nps.gov/api/v1`"
   ]
  },
  {
   "cell_type": "markdown",
   "metadata": {
    "slideshow": {
     "slide_type": "slide"
    }
   },
   "source": [
    "- **Endpoint**: The specific URL where the API page can be found. \n",
    "    > Parks Endpoint: `https://developer.nps.gov/api/v1/parks`\n",
    "\n",
    "\n",
    "- **Parameter**: An additional criterion that is added to the endpoint to filter data returned. \n",
    "    > parkCode, stateCode, and limit parameters: `https://developer.nps.gov/api/v1/parks?parkCode=yell&stateCode=WY&limit=5`\n",
    "    \n",
    "\n",
    "- **API Key**: A string of characters assigned by the website to identify the user requesting data via the API. \n",
    "    > National Parks API Key: `https://developer.nps.gov/api/v1/parks?api_key=1mdaBewB37R0kUA2ZtfA6URe7PeUsig6jLQmSXyx` (not a real key!)"
   ]
  },
  {
   "cell_type": "markdown",
   "metadata": {
    "slideshow": {
     "slide_type": "slide"
    }
   },
   "source": [
    "NPS Data API\n",
    "-----------------\n",
    "\n",
    "Official source of data about natural areas managed by the National Park Service\n",
    "- park information\n",
    "- campground information\n",
    "- alerts, events, news, educational resources, etc.\n",
    "\n",
    "\n",
    "NPS API Keys: https://www.nps.gov/subjects/developer/get-started.htm\n",
    "\n",
    "NPS Data API documentation: https://www.nps.gov/subjects/developer/api-documentation.htm  "
   ]
  },
  {
   "cell_type": "markdown",
   "metadata": {
    "slideshow": {
     "slide_type": "slide"
    }
   },
   "source": [
    "Python Requests library\n",
    "-----------------------------\n",
    "\n",
    "Sample GET Request:\n",
    "\n",
    "    import requests\n",
    "    url = 'https://baseurl.com/endpoint'\n",
    "    params = {\n",
    "        'field1': 'value1',\n",
    "        'field2': 'value2',\n",
    "    }\n",
    "    r = requests.get(url, params).json()\n",
    "    \n",
    "Quickstart documentation: https://2.python-requests.org/en/master/user/quickstart/"
   ]
  },
  {
   "cell_type": "markdown",
   "metadata": {
    "slideshow": {
     "slide_type": "slide"
    }
   },
   "source": [
    "Setup\n",
    "--------\n",
    "\n",
    "Import the `requests` and `pandas` libraries."
   ]
  },
  {
   "cell_type": "code",
   "execution_count": null,
   "metadata": {
    "slideshow": {
     "slide_type": "-"
    }
   },
   "outputs": [],
   "source": [
    "import requests\n",
    "import pandas as pd"
   ]
  },
  {
   "cell_type": "markdown",
   "metadata": {},
   "source": [
    "Save API Key as a constant or read it from a local file."
   ]
  },
  {
   "cell_type": "code",
   "execution_count": null,
   "metadata": {
    "slideshow": {
     "slide_type": "-"
    }
   },
   "outputs": [],
   "source": [
    "# API_KEY = '1mdaBewB37R0kUA2ZtfA6URe7PeUsig6jLQmSXyx'\n",
    "with open('api_key_file.txt', 'r') as f:\n",
    "    API_KEY = f.read().strip()\n",
    "print(\"API Key: {}\".format(\"API_KEY\")) # Remove quotes to display actual API_KEY"
   ]
  },
  {
   "cell_type": "markdown",
   "metadata": {
    "slideshow": {
     "slide_type": "slide"
    }
   },
   "source": [
    "Make a GET request to the API to retrieve data\n",
    "--------------------------------------------------------\n",
    "\n",
    "This request returns data on up to 100 parks in Washington DC, Maryland, and Virginia."
   ]
  },
  {
   "cell_type": "code",
   "execution_count": null,
   "metadata": {
    "slideshow": {
     "slide_type": "-"
    }
   },
   "outputs": [],
   "source": [
    "url = 'https://developer.nps.gov/api/v1/parks'\n",
    "params = {\n",
    "    'api_key': API_KEY,\n",
    "    'stateCode': 'DC,MD,VA', # Per the API documentation, separate multiple values with commas\n",
    "    'fields': 'entranceFees',\n",
    "    'limit': 100\n",
    "}\n",
    "r = requests.get(url, params)"
   ]
  },
  {
   "cell_type": "markdown",
   "metadata": {
    "slideshow": {
     "slide_type": "-"
    }
   },
   "source": [
    "`api_key` is a required parameter for all NPS Data API requests. `stateCode` filters parks based on two-letter US state abbreviations. `fields` specifies additional fields to return in addition to the default fields. `limit` specifies the maximum number of results to return."
   ]
  },
  {
   "cell_type": "markdown",
   "metadata": {
    "slideshow": {
     "slide_type": "slide"
    }
   },
   "source": [
    "`requests.get()` returns a variety of information about the web page retrieved. "
   ]
  },
  {
   "cell_type": "code",
   "execution_count": null,
   "metadata": {
    "slideshow": {
     "slide_type": "-"
    }
   },
   "outputs": [],
   "source": [
    "print(\"The response code is: {}\".format(r.status_code))\n",
    "print(\"\\nThe retrieved URL is: {}\".format(\"r.url\")) #Remove quotes to display URL\n",
    "print(\"\\nThe first 300 characters of the retrieved text are:\\n{}\".format(r.text[:300]))"
   ]
  },
  {
   "cell_type": "markdown",
   "metadata": {
    "slideshow": {
     "slide_type": "slide"
    }
   },
   "source": [
    "## Work with retrieved data\n",
    "\n",
    "### Convert GET request object to dictionary"
   ]
  },
  {
   "cell_type": "code",
   "execution_count": null,
   "metadata": {
    "slideshow": {
     "slide_type": "-"
    }
   },
   "outputs": [],
   "source": [
    "parks_data = r.json()\n",
    "\n",
    "print(\"Top level keys:\", list(parks_data))\n",
    "print(\"\\nAvailable keys in each entry:\", list(parks_data['data'][0]))"
   ]
  },
  {
   "cell_type": "markdown",
   "metadata": {
    "slideshow": {
     "slide_type": "slide"
    }
   },
   "source": [
    "### Create a DataFrame\n",
    "\n",
    "This code filters the retrieved data to states and associated lat/long coordinate for each park."
   ]
  },
  {
   "cell_type": "code",
   "execution_count": null,
   "metadata": {
    "slideshow": {
     "slide_type": "-"
    }
   },
   "outputs": [],
   "source": [
    "parks_df = pd.DataFrame(parks_data['data'])\n",
    "locations_df = parks_df[['parkCode', 'fullName', 'designation', 'states', 'latLong']]\n",
    "locations_df.head(10)"
   ]
  },
  {
   "cell_type": "markdown",
   "metadata": {
    "slideshow": {
     "slide_type": "slide"
    }
   },
   "source": [
    "### Restructure/flatten data\n",
    "\n",
    "Retrieved JSON data for an individual park's multiple entrance fees."
   ]
  },
  {
   "cell_type": "code",
   "execution_count": null,
   "metadata": {
    "slideshow": {
     "slide_type": "-"
    }
   },
   "outputs": [],
   "source": [
    "parks_data['data'][2]['entranceFees']"
   ]
  },
  {
   "cell_type": "markdown",
   "metadata": {
    "slideshow": {
     "slide_type": "slide"
    }
   },
   "source": [
    "For each park in the dataset, and for each entrance fee in that park, add some park and fee values as a dictionary to a new `entry_fee_data` list."
   ]
  },
  {
   "cell_type": "code",
   "execution_count": null,
   "metadata": {
    "slideshow": {
     "slide_type": "-"
    }
   },
   "outputs": [],
   "source": [
    "entry_fees_data = []\n",
    "for park in parks_data['data']:\n",
    "    for fee in park['entranceFees']:\n",
    "        entry_fees_data.append({\n",
    "            'parkCode': park['parkCode'],\n",
    "            'fullName': park['fullName'],\n",
    "            'designation': park['designation'],\n",
    "            'fee_usd': fee['cost'],\n",
    "            'fee_type': fee['title'],\n",
    "            'fee_description': fee['description']\n",
    "        })\n",
    "print(entry_fees_data[:3])"
   ]
  },
  {
   "cell_type": "markdown",
   "metadata": {
    "slideshow": {
     "slide_type": "slide"
    }
   },
   "source": [
    "Convert `entry_fee_data` to a DataFrame"
   ]
  },
  {
   "cell_type": "code",
   "execution_count": null,
   "metadata": {
    "slideshow": {
     "slide_type": "-"
    }
   },
   "outputs": [],
   "source": [
    "entry_fees_df = pd.DataFrame(entry_fees_data)\n",
    "entry_fees_df = entry_fees_df[['parkCode', 'fullName', 'designation', 'fee_usd', 'fee_type']]\n",
    "entry_fees_df['fee_usd'] = entry_fees_df['fee_usd'].astype(float)\n",
    "entry_fees_df.head(10)"
   ]
  },
  {
   "cell_type": "markdown",
   "metadata": {
    "slideshow": {
     "slide_type": "slide"
    }
   },
   "source": [
    "## Export data as a tabular file\n",
    "\n",
    "CSV file: `df_name.to_csv('output_file_name.csv', index=False)`\n",
    "\n",
    "TSV file: `df_name.to_csv('output_file_name.tsv', sep='\\t', index=False)`"
   ]
  },
  {
   "cell_type": "code",
   "execution_count": null,
   "metadata": {
    "slideshow": {
     "slide_type": "-"
    }
   },
   "outputs": [],
   "source": [
    "locations_df.to_csv('parks_data.tsv', sep='\\t', index=False)\n",
    "entry_fees_df.to_csv('parks_entry_fees.tsv', sep='\\t', index=False)"
   ]
  },
  {
   "cell_type": "markdown",
   "metadata": {
    "slideshow": {
     "slide_type": "slide"
    }
   },
   "source": [
    "Additional API Resources\n",
    "-------------------------------\n",
    "\n",
    "Full Requests documentation: https://2.python-requests.org/en/master/\n",
    "\n",
    "List of US Federal Government APIs: https://catalog.data.gov/dataset?res_format=API\n",
    "\n",
    "Repository of APIs: https://www.programmableweb.com/"
   ]
  }
 ],
 "metadata": {
  "celltoolbar": "Slideshow",
  "kernelspec": {
   "display_name": "Python 3",
   "language": "python",
   "name": "python3"
  },
  "language_info": {
   "codemirror_mode": {
    "name": "ipython",
    "version": 3
   },
   "file_extension": ".py",
   "mimetype": "text/x-python",
   "name": "python",
   "nbconvert_exporter": "python",
   "pygments_lexer": "ipython3",
   "version": "3.7.1"
  },
  "rise": {
   "autolaunch": true,
   "scroll": true,
   "theme": "solarized"
  }
 },
 "nbformat": 4,
 "nbformat_minor": 2
}
